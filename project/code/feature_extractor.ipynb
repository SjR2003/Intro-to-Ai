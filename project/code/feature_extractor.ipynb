{
  "cells": [
    {
      "cell_type": "markdown",
      "metadata": {
        "colab_type": "text",
        "id": "view-in-github"
      },
      "source": [
        "<a href=\"https://colab.research.google.com/github/anmolag190153/BCS_summer_project_SER/blob/main/Speech_emotion_recognition.ipynb\" target=\"_parent\"><img src=\"https://colab.research.google.com/assets/colab-badge.svg\" alt=\"Open In Colab\"/></a>"
      ]
    },
    {
      "cell_type": "markdown",
      "metadata": {},
      "source": [
        "# SPEECH EMOTION RECOGNITION PROJECT\n",
        "## BCS-IITK\n",
        "\n",
        "\n",
        "# Emotions feature extraction for CNN model"
      ]
    },
    {
      "cell_type": "code",
      "execution_count": 1,
      "metadata": {
        "colab": {
          "base_uri": "https://localhost:8080/"
        },
        "id": "6DAkci38V0eM",
        "outputId": "36b31712-2893-42a5-e948-8adfc05c6942"
      },
      "outputs": [],
      "source": [
        "import numpy as np\n",
        "import pandas as pd\n",
        "import matplotlib.pyplot as plt\n",
        "import IPython.display as ipd\n",
        "import librosa\n",
        "import librosa.display\n",
        "import os\n",
        "from sklearn.model_selection import train_test_split\n",
        "from sklearn.preprocessing import StandardScaler\n"
      ]
    },
    {
      "cell_type": "code",
      "execution_count": 37,
      "metadata": {
        "id": "T34HMV2Zgfbe"
      },
      "outputs": [],
      "source": [
        "def extract_feature(file, sr=22050):\n",
        "    result = np.array([])\n",
        "    # cnn\n",
        "    mfcc = np.mean(librosa.feature.mfcc(y=file,sr=sr,n_mfcc=20).T,axis=0)\n",
        "    result = np.hstack((result,mfcc))\n",
        "    spec_centroid = np.mean(librosa.feature.spectral_centroid(y=file,sr=sr).T,axis=0)\n",
        "    result = np.hstack((result,spec_centroid))\n",
        "    spec_bandwidth = np.mean(librosa.feature.spectral_bandwidth(y=file,sr=sr).T,axis=0)\n",
        "    result = np.hstack((result,spec_bandwidth))\n",
        "    spec_contrast = np.mean(librosa.feature.spectral_contrast(y=file,sr=sr).T,axis=0)\n",
        "    result=np.hstack((result,spec_contrast))\n",
        "    spec_flat = np.mean(librosa.feature.spectral_flatness(y=file).T,axis=0)\n",
        "    result=np.hstack((result,spec_flat))\n",
        "\n",
        "    # fuzzy\n",
        "    f0, voiced_flag, voiced_probs = librosa.pyin(file, fmin=50, fmax=300)\n",
        "    pitch = np.nanmean(f0)  # Mean pitch value (ignoring NaNs)\n",
        "    result=np.hstack((result,pitch))        \n",
        "    # Extract energy using Root Mean Square (RMS)\n",
        "    energy = np.mean(librosa.feature.rms(y=file))\n",
        "    result=np.hstack((result,energy)) \n",
        "    return result"
      ]
    },
    {
      "cell_type": "markdown",
      "metadata": {},
      "source": [
        "# Loading Data\n",
        "We are using the RAVDESS dataset for this project."
      ]
    },
    {
      "cell_type": "code",
      "execution_count": 38,
      "metadata": {
        "colab": {
          "base_uri": "https://localhost:8080/"
        },
        "id": "MoU-wCEhaWYU",
        "outputId": "31bf7f2d-315c-4aab-fa45-680c8e0eb0ef"
      },
      "outputs": [],
      "source": [
        "path='./Audio Datasets'\n",
        "k=0\n",
        "x_data=np.ndarray(shape=(24*60,120000))\n",
        "y_data=np.ndarray(shape=(24*60,1))\n",
        "for i,actor in enumerate(os.listdir(path)):\n",
        "    path1=os.path.join(path,actor)\n",
        "    for j,voice in enumerate(os.listdir(path1)):\n",
        "        if voice=='test':\n",
        "            continue\n",
        "        b=voice[6:8]\n",
        "        y_data[k,0]=b\n",
        "        y_data[k,0]=y_data[k,0]-1\n",
        "        temp_path=os.path.join(path1,voice)\n",
        "        var,_=librosa.load(temp_path)\n",
        "        x_data[k,:var.shape[0]]=var[:]\n",
        "        x_data[k,var.shape[0]:]=0\n",
        "        k=k+1"
      ]
    },
    {
      "cell_type": "markdown",
      "metadata": {},
      "source": [
        "# Extracting Features\n",
        "We have used mfccs and spectral features here."
      ]
    },
    {
      "cell_type": "code",
      "execution_count": 41,
      "metadata": {
        "id": "ADeYDlROgmxP"
      },
      "outputs": [
        {
          "ename": "SystemError",
          "evalue": "CPUDispatcher(<function _viterbi at 0x000001F6BB28A5E0>) returned a result with an error set",
          "output_type": "error",
          "traceback": [
            "\u001b[1;31m---------------------------------------------------------------------------\u001b[0m",
            "\u001b[1;31mKeyboardInterrupt\u001b[0m                         Traceback (most recent call last)",
            "File \u001b[1;32mc:\\Users\\sjr00\\anaconda3\\envs\\yolov5\\lib\\site-packages\\numba\\core\\serialize.py:44\u001b[0m, in \u001b[0;36m_numba_unpickle\u001b[1;34m(address, bytedata, hashed)\u001b[0m\n\u001b[0;32m     31\u001b[0m \u001b[38;5;250m\u001b[39m\u001b[38;5;124;03m\"\"\"Used by `numba_unpickle` from _helperlib.c\u001b[39;00m\n\u001b[0;32m     32\u001b[0m \n\u001b[0;32m     33\u001b[0m \u001b[38;5;124;03mParameters\u001b[39;00m\n\u001b[1;32m   (...)\u001b[0m\n\u001b[0;32m     42\u001b[0m \u001b[38;5;124;03m    unpickled object\u001b[39;00m\n\u001b[0;32m     43\u001b[0m \u001b[38;5;124;03m\"\"\"\u001b[39;00m\n\u001b[1;32m---> 44\u001b[0m key \u001b[38;5;241m=\u001b[39m (address, hashed)\n\u001b[0;32m     45\u001b[0m \u001b[38;5;28;01mtry\u001b[39;00m:\n",
            "\u001b[1;31mKeyboardInterrupt\u001b[0m: ",
            "\nThe above exception was the direct cause of the following exception:\n",
            "\u001b[1;31mSystemError\u001b[0m                               Traceback (most recent call last)",
            "\u001b[1;31mSystemError\u001b[0m: PyEval_EvalFrameEx returned a result with an error set",
            "\nThe above exception was the direct cause of the following exception:\n",
            "\u001b[1;31mSystemError\u001b[0m                               Traceback (most recent call last)",
            "Cell \u001b[1;32mIn[41], line 3\u001b[0m\n\u001b[0;32m      1\u001b[0m x\u001b[38;5;241m=\u001b[39m[]\n\u001b[0;32m      2\u001b[0m \u001b[38;5;28;01mfor\u001b[39;00m i \u001b[38;5;129;01min\u001b[39;00m \u001b[38;5;28mrange\u001b[39m(\u001b[38;5;241m24\u001b[39m\u001b[38;5;241m*\u001b[39m\u001b[38;5;241m60\u001b[39m):\n\u001b[1;32m----> 3\u001b[0m     feature\u001b[38;5;241m=\u001b[39m\u001b[43mextract_feature\u001b[49m\u001b[43m(\u001b[49m\u001b[43mx_data\u001b[49m\u001b[43m[\u001b[49m\u001b[43mi\u001b[49m\u001b[43m,\u001b[49m\u001b[43m:\u001b[49m\u001b[43m]\u001b[49m\u001b[43m)\u001b[49m\n\u001b[0;32m      4\u001b[0m     x\u001b[38;5;241m.\u001b[39mappend(feature)\n",
            "Cell \u001b[1;32mIn[37], line 16\u001b[0m, in \u001b[0;36mextract_feature\u001b[1;34m(file, sr)\u001b[0m\n\u001b[0;32m     13\u001b[0m result\u001b[38;5;241m=\u001b[39mnp\u001b[38;5;241m.\u001b[39mhstack((result,spec_flat))\n\u001b[0;32m     15\u001b[0m \u001b[38;5;66;03m# fuzzy\u001b[39;00m\n\u001b[1;32m---> 16\u001b[0m f0, voiced_flag, voiced_probs \u001b[38;5;241m=\u001b[39m \u001b[43mlibrosa\u001b[49m\u001b[38;5;241;43m.\u001b[39;49m\u001b[43mpyin\u001b[49m\u001b[43m(\u001b[49m\u001b[43mfile\u001b[49m\u001b[43m,\u001b[49m\u001b[43m \u001b[49m\u001b[43mfmin\u001b[49m\u001b[38;5;241;43m=\u001b[39;49m\u001b[38;5;241;43m50\u001b[39;49m\u001b[43m,\u001b[49m\u001b[43m \u001b[49m\u001b[43mfmax\u001b[49m\u001b[38;5;241;43m=\u001b[39;49m\u001b[38;5;241;43m300\u001b[39;49m\u001b[43m)\u001b[49m\n\u001b[0;32m     17\u001b[0m pitch \u001b[38;5;241m=\u001b[39m np\u001b[38;5;241m.\u001b[39mnanmean(f0)  \u001b[38;5;66;03m# Mean pitch value (ignoring NaNs)\u001b[39;00m\n\u001b[0;32m     18\u001b[0m result\u001b[38;5;241m=\u001b[39mnp\u001b[38;5;241m.\u001b[39mhstack((result,pitch))        \n",
            "File \u001b[1;32mc:\\Users\\sjr00\\anaconda3\\envs\\yolov5\\lib\\site-packages\\librosa\\core\\pitch.py:856\u001b[0m, in \u001b[0;36mpyin\u001b[1;34m(y, fmin, fmax, sr, frame_length, win_length, hop_length, n_thresholds, beta_parameters, boltzmann_parameter, resolution, max_transition_rate, switch_prob, no_trough_prob, fill_na, center, pad_mode)\u001b[0m\n\u001b[0;32m    853\u001b[0m p_init \u001b[38;5;241m=\u001b[39m np\u001b[38;5;241m.\u001b[39mzeros(\u001b[38;5;241m2\u001b[39m \u001b[38;5;241m*\u001b[39m n_pitch_bins)\n\u001b[0;32m    854\u001b[0m p_init[n_pitch_bins:] \u001b[38;5;241m=\u001b[39m \u001b[38;5;241m1\u001b[39m \u001b[38;5;241m/\u001b[39m n_pitch_bins\n\u001b[1;32m--> 856\u001b[0m states \u001b[38;5;241m=\u001b[39m \u001b[43msequence\u001b[49m\u001b[38;5;241;43m.\u001b[39;49m\u001b[43mviterbi\u001b[49m\u001b[43m(\u001b[49m\u001b[43mobservation_probs\u001b[49m\u001b[43m,\u001b[49m\u001b[43m \u001b[49m\u001b[43mtransition\u001b[49m\u001b[43m,\u001b[49m\u001b[43m \u001b[49m\u001b[43mp_init\u001b[49m\u001b[38;5;241;43m=\u001b[39;49m\u001b[43mp_init\u001b[49m\u001b[43m)\u001b[49m\n\u001b[0;32m    858\u001b[0m \u001b[38;5;66;03m# Find f0 corresponding to each decoded pitch bin.\u001b[39;00m\n\u001b[0;32m    859\u001b[0m freqs \u001b[38;5;241m=\u001b[39m fmin \u001b[38;5;241m*\u001b[39m \u001b[38;5;241m2\u001b[39m \u001b[38;5;241m*\u001b[39m\u001b[38;5;241m*\u001b[39m (np\u001b[38;5;241m.\u001b[39marange(n_pitch_bins) \u001b[38;5;241m/\u001b[39m (\u001b[38;5;241m12\u001b[39m \u001b[38;5;241m*\u001b[39m n_bins_per_semitone))\n",
            "File \u001b[1;32mc:\\Users\\sjr00\\anaconda3\\envs\\yolov5\\lib\\site-packages\\librosa\\sequence.py:1316\u001b[0m, in \u001b[0;36mviterbi\u001b[1;34m(prob, transition, p_init, return_logp)\u001b[0m\n\u001b[0;32m   1310\u001b[0m \u001b[38;5;28;01melse\u001b[39;00m:\n\u001b[0;32m   1311\u001b[0m     \u001b[38;5;66;03m# Vectorize the helper\u001b[39;00m\n\u001b[0;32m   1312\u001b[0m     __viterbi \u001b[38;5;241m=\u001b[39m np\u001b[38;5;241m.\u001b[39mvectorize(\n\u001b[0;32m   1313\u001b[0m         _helper, otypes\u001b[38;5;241m=\u001b[39m[np\u001b[38;5;241m.\u001b[39muint16, np\u001b[38;5;241m.\u001b[39mfloat64], signature\u001b[38;5;241m=\u001b[39m\u001b[38;5;124m\"\u001b[39m\u001b[38;5;124m(s,t)->(t),(1)\u001b[39m\u001b[38;5;124m\"\u001b[39m\n\u001b[0;32m   1314\u001b[0m     )\n\u001b[1;32m-> 1316\u001b[0m     states, logp \u001b[38;5;241m=\u001b[39m \u001b[43m__viterbi\u001b[49m\u001b[43m(\u001b[49m\u001b[43mlog_prob\u001b[49m\u001b[43m)\u001b[49m\n\u001b[0;32m   1318\u001b[0m     \u001b[38;5;66;03m# Flatten out the trailing dimension introduced by vectorization\u001b[39;00m\n\u001b[0;32m   1319\u001b[0m     logp \u001b[38;5;241m=\u001b[39m logp[\u001b[38;5;241m.\u001b[39m\u001b[38;5;241m.\u001b[39m\u001b[38;5;241m.\u001b[39m, \u001b[38;5;241m0\u001b[39m]\n",
            "File \u001b[1;32mc:\\Users\\sjr00\\anaconda3\\envs\\yolov5\\lib\\site-packages\\numpy\\lib\\function_base.py:2329\u001b[0m, in \u001b[0;36mvectorize.__call__\u001b[1;34m(self, *args, **kwargs)\u001b[0m\n\u001b[0;32m   2326\u001b[0m     vargs \u001b[38;5;241m=\u001b[39m [args[_i] \u001b[38;5;28;01mfor\u001b[39;00m _i \u001b[38;5;129;01min\u001b[39;00m inds]\n\u001b[0;32m   2327\u001b[0m     vargs\u001b[38;5;241m.\u001b[39mextend([kwargs[_n] \u001b[38;5;28;01mfor\u001b[39;00m _n \u001b[38;5;129;01min\u001b[39;00m names])\n\u001b[1;32m-> 2329\u001b[0m \u001b[38;5;28;01mreturn\u001b[39;00m \u001b[38;5;28;43mself\u001b[39;49m\u001b[38;5;241;43m.\u001b[39;49m\u001b[43m_vectorize_call\u001b[49m\u001b[43m(\u001b[49m\u001b[43mfunc\u001b[49m\u001b[38;5;241;43m=\u001b[39;49m\u001b[43mfunc\u001b[49m\u001b[43m,\u001b[49m\u001b[43m \u001b[49m\u001b[43margs\u001b[49m\u001b[38;5;241;43m=\u001b[39;49m\u001b[43mvargs\u001b[49m\u001b[43m)\u001b[49m\n",
            "File \u001b[1;32mc:\\Users\\sjr00\\anaconda3\\envs\\yolov5\\lib\\site-packages\\numpy\\lib\\function_base.py:2403\u001b[0m, in \u001b[0;36mvectorize._vectorize_call\u001b[1;34m(self, func, args)\u001b[0m\n\u001b[0;32m   2401\u001b[0m \u001b[38;5;250m\u001b[39m\u001b[38;5;124;03m\"\"\"Vectorized call to `func` over positional `args`.\"\"\"\u001b[39;00m\n\u001b[0;32m   2402\u001b[0m \u001b[38;5;28;01mif\u001b[39;00m \u001b[38;5;28mself\u001b[39m\u001b[38;5;241m.\u001b[39msignature \u001b[38;5;129;01mis\u001b[39;00m \u001b[38;5;129;01mnot\u001b[39;00m \u001b[38;5;28;01mNone\u001b[39;00m:\n\u001b[1;32m-> 2403\u001b[0m     res \u001b[38;5;241m=\u001b[39m \u001b[38;5;28;43mself\u001b[39;49m\u001b[38;5;241;43m.\u001b[39;49m\u001b[43m_vectorize_call_with_signature\u001b[49m\u001b[43m(\u001b[49m\u001b[43mfunc\u001b[49m\u001b[43m,\u001b[49m\u001b[43m \u001b[49m\u001b[43margs\u001b[49m\u001b[43m)\u001b[49m\n\u001b[0;32m   2404\u001b[0m \u001b[38;5;28;01melif\u001b[39;00m \u001b[38;5;129;01mnot\u001b[39;00m args:\n\u001b[0;32m   2405\u001b[0m     res \u001b[38;5;241m=\u001b[39m func()\n",
            "File \u001b[1;32mc:\\Users\\sjr00\\anaconda3\\envs\\yolov5\\lib\\site-packages\\numpy\\lib\\function_base.py:2443\u001b[0m, in \u001b[0;36mvectorize._vectorize_call_with_signature\u001b[1;34m(self, func, args)\u001b[0m\n\u001b[0;32m   2440\u001b[0m nout \u001b[38;5;241m=\u001b[39m \u001b[38;5;28mlen\u001b[39m(output_core_dims)\n\u001b[0;32m   2442\u001b[0m \u001b[38;5;28;01mfor\u001b[39;00m index \u001b[38;5;129;01min\u001b[39;00m np\u001b[38;5;241m.\u001b[39mndindex(\u001b[38;5;241m*\u001b[39mbroadcast_shape):\n\u001b[1;32m-> 2443\u001b[0m     results \u001b[38;5;241m=\u001b[39m \u001b[43mfunc\u001b[49m\u001b[43m(\u001b[49m\u001b[38;5;241;43m*\u001b[39;49m\u001b[43m(\u001b[49m\u001b[43marg\u001b[49m\u001b[43m[\u001b[49m\u001b[43mindex\u001b[49m\u001b[43m]\u001b[49m\u001b[43m \u001b[49m\u001b[38;5;28;43;01mfor\u001b[39;49;00m\u001b[43m \u001b[49m\u001b[43marg\u001b[49m\u001b[43m \u001b[49m\u001b[38;5;129;43;01min\u001b[39;49;00m\u001b[43m \u001b[49m\u001b[43margs\u001b[49m\u001b[43m)\u001b[49m\u001b[43m)\u001b[49m\n\u001b[0;32m   2445\u001b[0m     n_results \u001b[38;5;241m=\u001b[39m \u001b[38;5;28mlen\u001b[39m(results) \u001b[38;5;28;01mif\u001b[39;00m \u001b[38;5;28misinstance\u001b[39m(results, \u001b[38;5;28mtuple\u001b[39m) \u001b[38;5;28;01melse\u001b[39;00m \u001b[38;5;241m1\u001b[39m\n\u001b[0;32m   2447\u001b[0m     \u001b[38;5;28;01mif\u001b[39;00m nout \u001b[38;5;241m!=\u001b[39m n_results:\n",
            "File \u001b[1;32mc:\\Users\\sjr00\\anaconda3\\envs\\yolov5\\lib\\site-packages\\librosa\\sequence.py:1301\u001b[0m, in \u001b[0;36mviterbi.<locals>._helper\u001b[1;34m(lp)\u001b[0m\n\u001b[0;32m   1299\u001b[0m \u001b[38;5;28;01mdef\u001b[39;00m \u001b[38;5;21m_helper\u001b[39m(lp):\n\u001b[0;32m   1300\u001b[0m     \u001b[38;5;66;03m# Transpose input\u001b[39;00m\n\u001b[1;32m-> 1301\u001b[0m     _state, logp \u001b[38;5;241m=\u001b[39m \u001b[43m_viterbi\u001b[49m\u001b[43m(\u001b[49m\u001b[43mlp\u001b[49m\u001b[38;5;241;43m.\u001b[39;49m\u001b[43mT\u001b[49m\u001b[43m,\u001b[49m\u001b[43m \u001b[49m\u001b[43mlog_trans\u001b[49m\u001b[43m,\u001b[49m\u001b[43m \u001b[49m\u001b[43mlog_p_init\u001b[49m\u001b[43m)\u001b[49m\n\u001b[0;32m   1302\u001b[0m     \u001b[38;5;66;03m# Transpose outputs for return\u001b[39;00m\n\u001b[0;32m   1303\u001b[0m     \u001b[38;5;28;01mreturn\u001b[39;00m _state\u001b[38;5;241m.\u001b[39mT, logp\n",
            "\u001b[1;31mSystemError\u001b[0m: CPUDispatcher(<function _viterbi at 0x000001F6BB28A5E0>) returned a result with an error set"
          ]
        }
      ],
      "source": [
        "x=[]\n",
        "for i in range(24*60):\n",
        "    feature=extract_feature(x_data[i,:])\n",
        "    x.append(feature)"
      ]
    },
    {
      "cell_type": "markdown",
      "metadata": {},
      "source": [
        "**Scaling** the data and splitting data for **training** and **validation**"
      ]
    },
    {
      "cell_type": "code",
      "execution_count": 7,
      "metadata": {
        "id": "2gdYm8XWgn33"
      },
      "outputs": [],
      "source": [
        "x_cnn, x_fuzzy, y_cnn ,y_fuzzy = train_test_split(np.array(x), y_data, test_size=0.4, random_state=10)\n",
        "\n",
        "x_cnn_train, x_cnn_test, y_cnn_train, y_cnn_test = train_test_split(np.array(x_cnn), y_cnn, test_size=0.2, random_state=10)\n",
        "x_cnn_val, x_cnn_test, y_cnn_val, y_cnn_test = train_test_split(np.array(x_cnn_test), y_cnn_test, test_size=0.1, random_state=10)\n",
        "\n",
        "scaler = StandardScaler()\n",
        "x_cnn_train = scaler.fit_transform(x_cnn_train)\n",
        "x_cnn_test = scaler.transform(x_cnn_test)\n",
        "x_cnn_val = scaler.transform(x_cnn_val)\n",
        "\n",
        "x_fuzzy_train, x_fuzzy_test, y_fuzzy_train, y_fuzzy_test = train_test_split(np.array(x_fuzzy), y_fuzzy, test_size=0.2, random_state=10)\n",
        "x_fuzzy_val, x_fuzzy_test, y_fuzzy_val, y_fuzzy_test = train_test_split(np.array(x_fuzzy_test), y_fuzzy_test, test_size=0.1, random_state=10)\n",
        "\n",
        "scaler = StandardScaler()\n",
        "x_fuzzy_train = scaler.fit_transform(x_fuzzy_train)\n",
        "x_fuzzy_test = scaler.transform(x_fuzzy_test)\n",
        "x_fuzzy_val = scaler.transform(x_fuzzy_val)\n"
      ]
    },
    {
      "cell_type": "markdown",
      "metadata": {},
      "source": [
        "# Saving features "
      ]
    },
    {
      "cell_type": "code",
      "execution_count": 8,
      "metadata": {},
      "outputs": [],
      "source": [
        "for i,feat in enumerate(x_cnn_train):\n",
        "    np.savetxt('features/cnn/train/'+str(i)+'_'+str(y_cnn_train[i])+'.csv',feat,delimiter=',')\n",
        "for i,feat in enumerate(x_cnn_test):\n",
        "    np.savetxt('features/cnn/test/'+str(i)+'_'+str(y_cnn_test[i])+'.csv',feat,delimiter=',')\n",
        "for i,feat in enumerate(x_cnn_val):\n",
        "    np.savetxt('features/cnn/val/'+str(i)+'_'+str(y_cnn_val[i])+'.csv',feat,delimiter=',')\n",
        "\n",
        "for i,feat in enumerate(x_fuzzy_train):\n",
        "    np.savetxt('features/fuzzy/train/'+str(i)+'_'+str(y_fuzzy_train[i])+'.csv',feat,delimiter=',')\n",
        "for i,feat in enumerate(x_fuzzy_test):\n",
        "    np.savetxt('features/fuzzy/test/'+str(i)+'_'+str(y_fuzzy_test[i])+'.csv',feat,delimiter=',')\n",
        "for i,feat in enumerate(x_fuzzy_val):\n",
        "    np.savetxt('features/fuzzy/val/'+str(i)+'_'+str(y_fuzzy_val[i])+'.csv',feat,delimiter=',')\n"
      ]
    },
    {
      "cell_type": "code",
      "execution_count": 9,
      "metadata": {},
      "outputs": [
        {
          "name": "stdout",
          "output_type": "stream",
          "text": [
            "((691, 32), (18, 32), (691, 1))\n",
            "((460, 32), (12, 32), (460, 1))\n"
          ]
        }
      ],
      "source": [
        "print((x_cnn_train.shape,x_cnn_test.shape,y_cnn_train.shape))\n",
        "print((x_fuzzy_train.shape,x_fuzzy_test.shape,y_fuzzy_train.shape))"
      ]
    }
  ],
  "metadata": {
    "colab": {
      "authorship_tag": "ABX9TyNtWzcuO3rLiERtGk4RfayH",
      "include_colab_link": true,
      "name": "Speech_emotion_recognition.ipynb",
      "provenance": []
    },
    "kernelspec": {
      "display_name": "yolov5",
      "language": "python",
      "name": "python3"
    },
    "language_info": {
      "codemirror_mode": {
        "name": "ipython",
        "version": 3
      },
      "file_extension": ".py",
      "mimetype": "text/x-python",
      "name": "python",
      "nbconvert_exporter": "python",
      "pygments_lexer": "ipython3",
      "version": "3.8.19"
    }
  },
  "nbformat": 4,
  "nbformat_minor": 2
}
