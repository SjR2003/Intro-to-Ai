{
  "cells": [
    {
      "cell_type": "markdown",
      "metadata": {
        "colab_type": "text",
        "id": "view-in-github"
      },
      "source": [
        "<a href=\"https://colab.research.google.com/github/anmolag190153/BCS_summer_project_SER/blob/main/Speech_emotion_recognition.ipynb\" target=\"_parent\"><img src=\"https://colab.research.google.com/assets/colab-badge.svg\" alt=\"Open In Colab\"/></a>"
      ]
    },
    {
      "cell_type": "markdown",
      "metadata": {},
      "source": [
        "# SPEECH EMOTION RECOGNITION PROJECT\n",
        "## BCS-IITK\n",
        "\n",
        "\n",
        "# Emotions feature extraction for CNN model"
      ]
    },
    {
      "cell_type": "code",
      "execution_count": null,
      "metadata": {
        "colab": {
          "base_uri": "https://localhost:8080/"
        },
        "id": "6DAkci38V0eM",
        "outputId": "36b31712-2893-42a5-e948-8adfc05c6942"
      },
      "outputs": [],
      "source": [
        "import numpy as np\n",
        "import pandas as pd\n",
        "import matplotlib.pyplot as plt\n",
        "import IPython.display as ipd\n",
        "import librosa\n",
        "import librosa.display\n",
        "import os\n",
        "from sklearn.model_selection import train_test_split\n",
        "from sklearn.preprocessing import StandardScaler\n"
      ]
    },
    {
      "cell_type": "code",
      "execution_count": 3,
      "metadata": {
        "id": "T34HMV2Zgfbe"
      },
      "outputs": [],
      "source": [
        "def extract_cnn_feature(file, sr=22050):\n",
        "    result = np.array([])\n",
        "    # cnn\n",
        "    mfcc = np.mean(librosa.feature.mfcc(y=file,sr=sr,n_mfcc=20).T,axis=0)\n",
        "    result = np.hstack((result,mfcc))\n",
        "    spec_centroid = np.mean(librosa.feature.spectral_centroid(y=file,sr=sr).T,axis=0)\n",
        "    result = np.hstack((result,spec_centroid))\n",
        "    spec_bandwidth = np.mean(librosa.feature.spectral_bandwidth(y=file,sr=sr).T,axis=0)\n",
        "    result = np.hstack((result,spec_bandwidth))\n",
        "    spec_contrast = np.mean(librosa.feature.spectral_contrast(y=file,sr=sr).T,axis=0)\n",
        "    result=np.hstack((result,spec_contrast))\n",
        "    spec_flat = np.mean(librosa.feature.spectral_flatness(y=file).T,axis=0)\n",
        "    result=np.hstack((result,spec_flat))\n",
        "\n",
        "    # fuzzy\n",
        "    f0, voiced_flag, voiced_probs = librosa.pyin(file, fmin=50, fmax=300)\n",
        "    pitch = np.nanmean(f0)  # Mean pitch value (ignoring NaNs)\n",
        "    result=np.hstack((result,pitch))        \n",
        "    # Extract energy using Root Mean Square (RMS)\n",
        "    energy = np.mean(librosa.feature.rms(y=file))\n",
        "    result=np.hstack((result,energy)) \n",
        "    return result"
      ]
    },
    {
      "cell_type": "markdown",
      "metadata": {},
      "source": [
        "# Loading Data\n",
        "We are using the RAVDESS dataset for this project."
      ]
    },
    {
      "cell_type": "code",
      "execution_count": 4,
      "metadata": {
        "colab": {
          "base_uri": "https://localhost:8080/"
        },
        "id": "MoU-wCEhaWYU",
        "outputId": "31bf7f2d-315c-4aab-fa45-680c8e0eb0ef"
      },
      "outputs": [],
      "source": [
        "path='./Audio Datasets'\n",
        "k=0\n",
        "x_data=np.ndarray(shape=(24*60,120000))\n",
        "y_data=np.ndarray(shape=(24*60,1))\n",
        "for i,actor in enumerate(os.listdir(path)):\n",
        "    path1=os.path.join(path,actor)\n",
        "    for j,voice in enumerate(os.listdir(path1)):\n",
        "        if voice=='test':\n",
        "            continue\n",
        "        b=voice[6:8]\n",
        "        y_data[k,0]=b\n",
        "        y_data[k,0]=y_data[k,0]-1\n",
        "        temp_path=os.path.join(path1,voice)\n",
        "        var,_=librosa.load(temp_path)\n",
        "        x_data[k,:var.shape[0]]=var[:]\n",
        "        x_data[k,var.shape[0]:]=0\n",
        "        k=k+1"
      ]
    },
    {
      "cell_type": "markdown",
      "metadata": {},
      "source": [
        "# Extracting Features\n",
        "We have used mfccs and spectral features here."
      ]
    },
    {
      "cell_type": "code",
      "execution_count": 5,
      "metadata": {
        "id": "ADeYDlROgmxP"
      },
      "outputs": [
        {
          "name": "stderr",
          "output_type": "stream",
          "text": [
            "C:\\Users\\sjr00\\AppData\\Local\\Temp\\ipykernel_14956\\524089765.py:17: RuntimeWarning: Mean of empty slice\n",
            "  pitch = np.nanmean(f0)  # Mean pitch value (ignoring NaNs)\n"
          ]
        }
      ],
      "source": [
        "x=[]\n",
        "for i in range(24*60):\n",
        "    feature=extract_cnn_feature(x_data[i,:])\n",
        "    x.append(feature)"
      ]
    },
    {
      "cell_type": "markdown",
      "metadata": {},
      "source": [
        "**Scaling** the data and splitting data for **training** and **validation**"
      ]
    },
    {
      "cell_type": "code",
      "execution_count": 7,
      "metadata": {
        "id": "2gdYm8XWgn33"
      },
      "outputs": [],
      "source": [
        "x_cnn, x_fuzzy, y_cnn ,y_fuzzy = train_test_split(np.array(x), y_data, test_size=0.4, random_state=10)\n",
        "\n",
        "x_cnn_train, x_cnn_test, y_cnn_train, y_cnn_test = train_test_split(np.array(x_cnn), y_cnn, test_size=0.2, random_state=10)\n",
        "x_cnn_val, x_cnn_test, y_cnn_val, y_cnn_test = train_test_split(np.array(x_cnn_test), y_cnn_test, test_size=0.1, random_state=10)\n",
        "\n",
        "scaler = StandardScaler()\n",
        "x_cnn_train = scaler.fit_transform(x_cnn_train)\n",
        "x_cnn_test = scaler.transform(x_cnn_test)\n",
        "x_cnn_val = scaler.transform(x_cnn_val)\n",
        "\n",
        "x_fuzzy_train, x_fuzzy_test, y_fuzzy_train, y_fuzzy_test = train_test_split(np.array(x_fuzzy), y_fuzzy, test_size=0.2, random_state=10)\n",
        "x_fuzzy_val, x_fuzzy_test, y_fuzzy_val, y_fuzzy_test = train_test_split(np.array(x_fuzzy_test), y_fuzzy_test, test_size=0.1, random_state=10)\n",
        "\n",
        "scaler = StandardScaler()\n",
        "x_fuzzy_train = scaler.fit_transform(x_fuzzy_train)\n",
        "x_fuzzy_test = scaler.transform(x_fuzzy_test)\n",
        "x_fuzzy_val = scaler.transform(x_fuzzy_val)\n"
      ]
    },
    {
      "cell_type": "markdown",
      "metadata": {},
      "source": [
        "# Saving features "
      ]
    },
    {
      "cell_type": "code",
      "execution_count": 8,
      "metadata": {},
      "outputs": [],
      "source": [
        "for i,feat in enumerate(x_cnn_train):\n",
        "    np.savetxt('features/cnn/train/'+str(i)+'_'+str(y_cnn_train[i])+'.csv',feat,delimiter=',')\n",
        "for i,feat in enumerate(x_cnn_test):\n",
        "    np.savetxt('features/cnn/test/'+str(i)+'_'+str(y_cnn_test[i])+'.csv',feat,delimiter=',')\n",
        "for i,feat in enumerate(x_cnn_val):\n",
        "    np.savetxt('features/cnn/val/'+str(i)+'_'+str(y_cnn_val[i])+'.csv',feat,delimiter=',')\n",
        "\n",
        "for i,feat in enumerate(x_fuzzy_train):\n",
        "    np.savetxt('features/fuzzy/train/'+str(i)+'_'+str(y_fuzzy_train[i])+'.csv',feat,delimiter=',')\n",
        "for i,feat in enumerate(x_fuzzy_test):\n",
        "    np.savetxt('features/fuzzy/test/'+str(i)+'_'+str(y_fuzzy_test[i])+'.csv',feat,delimiter=',')\n",
        "for i,feat in enumerate(x_fuzzy_val):\n",
        "    np.savetxt('features/fuzzy/val/'+str(i)+'_'+str(y_fuzzy_val[i])+'.csv',feat,delimiter=',')\n"
      ]
    },
    {
      "cell_type": "code",
      "execution_count": 9,
      "metadata": {},
      "outputs": [
        {
          "name": "stdout",
          "output_type": "stream",
          "text": [
            "((691, 32), (18, 32), (691, 1))\n",
            "((460, 32), (12, 32), (460, 1))\n"
          ]
        }
      ],
      "source": [
        "print((x_cnn_train.shape,x_cnn_test.shape,y_cnn_train.shape))\n",
        "print((x_fuzzy_train.shape,x_fuzzy_test.shape,y_fuzzy_train.shape))"
      ]
    }
  ],
  "metadata": {
    "colab": {
      "authorship_tag": "ABX9TyNtWzcuO3rLiERtGk4RfayH",
      "include_colab_link": true,
      "name": "Speech_emotion_recognition.ipynb",
      "provenance": []
    },
    "kernelspec": {
      "display_name": "yolov5",
      "language": "python",
      "name": "python3"
    },
    "language_info": {
      "codemirror_mode": {
        "name": "ipython",
        "version": 3
      },
      "file_extension": ".py",
      "mimetype": "text/x-python",
      "name": "python",
      "nbconvert_exporter": "python",
      "pygments_lexer": "ipython3",
      "version": "3.8.19"
    }
  },
  "nbformat": 4,
  "nbformat_minor": 2
}
